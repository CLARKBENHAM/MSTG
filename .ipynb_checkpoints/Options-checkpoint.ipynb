{
 "cells": [
  {
   "cell_type": "code",
   "execution_count": 74,
   "metadata": {
    "scrolled": true
   },
   "outputs": [
    {
     "name": "stdout",
     "output_type": "stream",
     "text": [
      "(1.0, 0.0, 0.0, -0.0, 0.0)\n"
     ]
    }
   ],
   "source": [
    "import numpy as np\n",
    "import pandas as pd\n",
    "import scipy\n",
    "import math\n",
    "from scipy.stats import norm\n",
    "import matplotlib.pyplot as plt\n",
    "\n",
    "def brownian(x0, n, delta = None, loc = None, dt = 1, out = None):\n",
    "    if not out:\n",
    "        out = np.ones(n)\n",
    "    # For each element of x0, generate a sample of n numbers from a\n",
    "    # normal distribution.\n",
    "    delta = delta or year_vol/(256**0.5)\n",
    "    loc = loc or (1 + year_ret)**(1/256)\n",
    "    r = norm.rvs(loc = loc, size=n, scale=delta*math.sqrt(dt))\n",
    "    # This computes geometrix Brownian motion by forming the cumulative product of samples. \n",
    "    return np.cumprod(r, axis=-1, out = out)*x0\n",
    "\n",
    "#approximating w/ 4 64 day quarters = 1 year\n",
    "\n",
    "year_vol = 0.16\n",
    "year_ret = 0.08\n",
    "risk_free = 0.03\n",
    "drisk_free = math.log(1 + risk_free)/256#risk free as the daily compounding rate\n",
    "d_vol = year_vol/math.sqrt(256)\n",
    "market = brownian(100, 256)\n",
    "\n",
    "class Stock:\n",
    "    def __init__(self, prices = None, price0 = None, exp_vol = None, dividend = 1, market_cor = 0 ):\n",
    "        self.exp_dvol = exp_vol or d_vol#daily expected vol\n",
    "        self.dividend = dividend#same every quarter\n",
    "        self.dividend_every = 64#paid on end of day\n",
    "        #prices at end of day, assumes started just after dividend paid, 4 dividends/year\n",
    "        if prices is None: \n",
    "            self.true_prices = brownian(price0, n = 30*256) \\\n",
    "                                - np.array([[0]*(64 - 1) + [dividend]]*30*4).flatten()  #subtract dividend on day paid \n",
    "        else:\n",
    "            self.true_prices = prices\n",
    "        \n",
    "class Euro_option:\n",
    "    def __init__(self, strike = 100, premium = 10, lifetime = 256, tp = 'call', asset = None):\n",
    "        self.strike = strike\n",
    "        self.premium = premium\n",
    "        self.lifetime = lifetime\n",
    "        self.tp = tp\n",
    "        self.asset = asset or Stock(prices = np.full(lifetime + 1, strike))\n",
    "        \n",
    "    def calc_greeks(self, iv = None, days_elapsed = 0, ret_value = False):\n",
    "        \"Calculates the greeks using the BS method\"\n",
    "        if not iv:\n",
    "            iv = self.asset.exp_dvol\n",
    "        days_left = self.lifetime - days_elapsed\n",
    "        spot = self.asset.true_prices[days_elapsed]\n",
    "        if days_left == 0:\n",
    "            t = self.lifetime\n",
    "            if self.tp == 'call':\n",
    "                return max(0, spot - self.strike)\n",
    "            elif self.tp == 'put':\n",
    "                return max(0, self.strike - spot)\n",
    "        vol_left = iv*days_left**0.5\n",
    "        d1 = (1 / vol_left*days_left**0.5) * (math.log(spot/self.strike) + (drisk_free + (vol_left**2)/2)*days_left)\n",
    "        d2 = d1 - vol_left * days_left**0.5\n",
    "        pv_k = self.strike * math.exp(-drisk_free*days_left)\n",
    "        if ret_value:\n",
    "            call = norm.cdf(d1)*spot - norm.cdf(d2)*pv_k\n",
    "            if self.tp == 'call':\n",
    "                return call \n",
    "            elif self.tp == 'put':\n",
    "                return pv_k - spot + call\n",
    "        gamma = norm.pdf(d1)/(spot*days_left**0.5)\n",
    "        vega = spot*norm.pdf(d1)*days_left**0.5\n",
    "        theta = -spot*norm.pdf(d1)*vol_left/(2*days_left**0.5)\n",
    "        if self.tp == 'call':\n",
    "            delta = norm.cdf(d1)\n",
    "            theta -= drisk_free*pv_k*norm.pdf(d2)\n",
    "            rho = days_left*pv_k*norm.pdf(d2)\n",
    "        elif self.tp == 'put':\n",
    "            delta = norm.cdf(d1) - 1\n",
    "            theta += drisk_free*pv_k*norm.pdf(-d2)\n",
    "            rho = -days_left*pv_k*norm.pdf(-d2)\n",
    "        return delta, gamma, vega, theta, rho\n",
    "            \n",
    "    def make_payoff(option, position = 'long', t = 0):\n",
    "        stock_prices = np.arange(option.strike - 30, option.strike + 30, 1)\n",
    "        if 'call' in option.tp:\n",
    "            payoff = [max(0, i - option.strike) - option.premium for i in stock_prices]\n",
    "        elif 'put' in option.tp:\n",
    "            payoff = [max(0, option.strike - i) - option.premium for i in stock_prices]\n",
    "        if position == 'long':\n",
    "            pass\n",
    "        else:\n",
    "            payoff = [i*-1 for i in payoff]\n",
    "        fig = plt.figure()\n",
    "        ax1 = fig.add_subplot(1,1,1) \n",
    "        ax1.plot(stock_prices, payoff)\n",
    "        ax1.set_title(f\"Time = {t}\")\n",
    "        return fig\n",
    "        \n",
    "call1 = Euro_option(strike = 100, premium = 10, lifetime = 256, tp = 'call')\n",
    "# call1.make_payoff()\n",
    "# a = call1.make_payoff(position= 'long')\n",
    "print(call1.calc_greeks(days_elapsed = 0, ret_value = False))\n",
    "# plt.plot(call1.asset.true_prices)"
   ]
  },
  {
   "cell_type": "code",
   "execution_count": 65,
   "metadata": {},
   "outputs": [
    {
     "ename": "NameError",
     "evalue": "name 'isnone' is not defined",
     "output_type": "error",
     "traceback": [
      "\u001b[1;31m---------------------------------------------------------------------------\u001b[0m",
      "\u001b[1;31mNameError\u001b[0m                                 Traceback (most recent call last)",
      "\u001b[1;32m<ipython-input-65-4bb713e487e5>\u001b[0m in \u001b[0;36m<module>\u001b[1;34m\u001b[0m\n\u001b[1;32m----> 1\u001b[1;33m \u001b[0misnone\u001b[0m\u001b[1;33m(\u001b[0m\u001b[1;36m1\u001b[0m\u001b[1;33m,\u001b[0m \u001b[1;32mNone\u001b[0m\u001b[1;33m)\u001b[0m\u001b[1;33m\u001b[0m\u001b[1;33m\u001b[0m\u001b[0m\n\u001b[0m",
      "\u001b[1;31mNameError\u001b[0m: name 'isnone' is not defined"
     ]
    }
   ],
   "source": [
    "isnone(1, None)"
   ]
  }
 ],
 "metadata": {
  "kernelspec": {
   "display_name": "Python 3",
   "language": "python",
   "name": "python3"
  },
  "language_info": {
   "codemirror_mode": {
    "name": "ipython",
    "version": 3
   },
   "file_extension": ".py",
   "mimetype": "text/x-python",
   "name": "python",
   "nbconvert_exporter": "python",
   "pygments_lexer": "ipython3",
   "version": "3.7.3"
  }
 },
 "nbformat": 4,
 "nbformat_minor": 2
}
