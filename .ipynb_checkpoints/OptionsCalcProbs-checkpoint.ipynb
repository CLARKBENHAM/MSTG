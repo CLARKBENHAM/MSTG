{
 "cells": [
  {
   "cell_type": "code",
   "execution_count": 37,
   "metadata": {
    "colab": {},
    "colab_type": "code",
    "id": "IN-5X83cIJuF"
   },
   "outputs": [],
   "source": [
    "#calculates probabilities for tickers\n",
    "import requests\n",
    "from lxml import html\n",
    "from datetime import datetime, date\n",
    "import numpy as np\n",
    "from collections import namedtuple\n",
    "from ipynb.fs.full.option_classes import *\n",
    "\n",
    "ticker ='tdc'\n",
    "url = f'https://finance.yahoo.com/quote/{ticker.lower()}/options'\n",
    "response = requests.get(url)\n",
    "tree = html.fromstring(response.content)\n"
   ]
  },
  {
   "cell_type": "code",
   "execution_count": 2,
   "metadata": {
    "colab": {},
    "colab_type": "code",
    "id": "vtTEccWrK0bj"
   },
   "outputs": [],
   "source": [
    "strikes = tree.xpath('//td[@class=\"data-col2 Ta(end) Pstart(7px)\"]/a')\n",
    "[i.text for i in strikes]\n",
    "contractName = [i.text for i in tree.xpath(\"//td[contains(@class,'data-col0 Ta(start) Pstart')]/a\")]\n",
    "strike, changePrice, changePercent= \\\n",
    "  ([i.text for i in tree.xpath(f'//td[contains(@class,\"data-col{i} Ta(end) Pstart\")]/a')] for i in [ 2, 6, 7])\n",
    "lastTradeDate, lastPrice, bid, ask, volume, openInterest, impliedVol = \\\n",
    "  ([i.text for i in tree.xpath(f'//td[contains(@class,\"data-col{i} Ta(end) Pstart\")]')] for i in [1, 3, 4, 5, 8, 9, 10])\n"
   ]
  },
  {
   "cell_type": "code",
   "execution_count": 3,
   "metadata": {
    "colab": {
     "base_uri": "https://localhost:8080/",
     "height": 35
    },
    "colab_type": "code",
    "id": "WFTyCQ2MOv-1",
    "outputId": "98c581fa-c5da-4af6-ccc3-071e821b2e8b"
   },
   "outputs": [
    {
     "name": "stdout",
     "output_type": "stream",
     "text": [
      "22.5 call 2020-02-21 00:00:00 TDC\n"
     ]
    }
   ],
   "source": [
    "def parseContract(name):\n",
    "  strike=float(name[-8:])/1000\n",
    "  tp = 'call' if name[-9]=='C' else 'put'\n",
    "  expiryDate = datetime.strptime(name[-15:-9], '%y%m%d')\n",
    "  symbol = name[:-15]\n",
    "  \n",
    "parseContract(contractName[0])              "
   ]
  },
  {
   "cell_type": "code",
   "execution_count": 84,
   "metadata": {
    "colab": {
     "base_uri": "https://localhost:8080/",
     "height": 377
    },
    "colab_type": "code",
    "id": "wDtvX6nFSkYx",
    "outputId": "267f30ef-2aca-4c06-ae45-1ea89fb6b85e"
   },
   "outputs": [
    {
     "ename": "NameError",
     "evalue": "name 'Euro_Option' is not defined",
     "output_type": "error",
     "traceback": [
      "\u001b[1;31m---------------------------------------------------------------------------\u001b[0m",
      "\u001b[1;31mNameError\u001b[0m                                 Traceback (most recent call last)",
      "\u001b[1;32m<ipython-input-84-074b506ebb1c>\u001b[0m in \u001b[0;36m<module>\u001b[1;34m\u001b[0m\n\u001b[0;32m     61\u001b[0m     \u001b[1;32mreturn\u001b[0m \u001b[1;33m{\u001b[0m\u001b[1;34m'bid_calls'\u001b[0m\u001b[1;33m:\u001b[0m\u001b[0mbid_calls\u001b[0m\u001b[1;33m,\u001b[0m \u001b[1;34m'ask_calls'\u001b[0m\u001b[1;33m:\u001b[0m\u001b[0mask_calls\u001b[0m\u001b[1;33m,\u001b[0m \u001b[1;34m'bid_puts'\u001b[0m\u001b[1;33m:\u001b[0m\u001b[0mbid_puts\u001b[0m\u001b[1;33m,\u001b[0m \u001b[1;34m'ask_puts'\u001b[0m\u001b[1;33m:\u001b[0m\u001b[0mask_puts\u001b[0m\u001b[1;33m}\u001b[0m\u001b[1;33m\u001b[0m\u001b[1;33m\u001b[0m\u001b[0m\n\u001b[0;32m     62\u001b[0m \u001b[1;33m\u001b[0m\u001b[0m\n\u001b[1;32m---> 63\u001b[1;33m \u001b[0mparseTicker\u001b[0m\u001b[1;33m(\u001b[0m\u001b[1;34m'tdc'\u001b[0m\u001b[1;33m)\u001b[0m\u001b[1;33m\u001b[0m\u001b[1;33m\u001b[0m\u001b[0m\n\u001b[0m",
      "\u001b[1;32m<ipython-input-84-074b506ebb1c>\u001b[0m in \u001b[0;36mparseTicker\u001b[1;34m(ticker)\u001b[0m\n\u001b[0;32m     15\u001b[0m \u001b[1;31m#            'https://finance.yahoo.com/quote/TDC/options?date=1608249600']\u001b[0m\u001b[1;33m\u001b[0m\u001b[1;33m\u001b[0m\u001b[1;33m\u001b[0m\u001b[0m\n\u001b[0;32m     16\u001b[0m     \u001b[1;32mfor\u001b[0m \u001b[0murl\u001b[0m \u001b[1;32min\u001b[0m \u001b[0murls\u001b[0m\u001b[1;33m:\u001b[0m\u001b[1;33m\u001b[0m\u001b[1;33m\u001b[0m\u001b[0m\n\u001b[1;32m---> 17\u001b[1;33m         \u001b[0moptions\u001b[0m \u001b[1;33m=\u001b[0m \u001b[0mparseContract\u001b[0m\u001b[1;33m(\u001b[0m\u001b[0murl\u001b[0m\u001b[1;33m)\u001b[0m\u001b[1;33m\u001b[0m\u001b[1;33m\u001b[0m\u001b[0m\n\u001b[0m\u001b[0;32m     18\u001b[0m         \u001b[0mfig\u001b[0m\u001b[1;33m,\u001b[0m \u001b[1;33m(\u001b[0m\u001b[1;33m(\u001b[0m\u001b[0max1\u001b[0m\u001b[1;33m,\u001b[0m \u001b[0max2\u001b[0m\u001b[1;33m)\u001b[0m\u001b[1;33m,\u001b[0m \u001b[1;33m(\u001b[0m\u001b[0max3\u001b[0m\u001b[1;33m,\u001b[0m \u001b[0max4\u001b[0m\u001b[1;33m)\u001b[0m\u001b[1;33m)\u001b[0m \u001b[1;33m=\u001b[0m \u001b[0mplt\u001b[0m\u001b[1;33m.\u001b[0m\u001b[0msubplots\u001b[0m\u001b[1;33m(\u001b[0m\u001b[1;36m2\u001b[0m\u001b[1;33m,\u001b[0m \u001b[1;36m2\u001b[0m\u001b[1;33m,\u001b[0m \u001b[0mfigsize\u001b[0m \u001b[1;33m=\u001b[0m \u001b[1;33m(\u001b[0m\u001b[1;36m10\u001b[0m\u001b[1;33m,\u001b[0m\u001b[1;36m10\u001b[0m\u001b[1;33m)\u001b[0m\u001b[1;33m)\u001b[0m\u001b[1;33m\u001b[0m\u001b[1;33m\u001b[0m\u001b[0m\n\u001b[0;32m     19\u001b[0m         \u001b[0mplt\u001b[0m\u001b[1;33m.\u001b[0m\u001b[0msubplots_adjust\u001b[0m\u001b[1;33m(\u001b[0m\u001b[0mwspace\u001b[0m\u001b[1;33m=\u001b[0m\u001b[1;36m0.3\u001b[0m\u001b[1;33m,\u001b[0m \u001b[0mhspace\u001b[0m\u001b[1;33m=\u001b[0m\u001b[1;36m0.25\u001b[0m\u001b[1;33m)\u001b[0m\u001b[1;33m\u001b[0m\u001b[1;33m\u001b[0m\u001b[0m\n",
      "\u001b[1;32m<ipython-input-84-074b506ebb1c>\u001b[0m in \u001b[0;36mparseContract\u001b[1;34m(url)\u001b[0m\n\u001b[0;32m     48\u001b[0m \u001b[1;33m\u001b[0m\u001b[0m\n\u001b[0;32m     49\u001b[0m     bid_calls = [Euro_Option(tp=t, lifetime = d, strike = s, premium = float(p)) \n\u001b[1;32m---> 50\u001b[1;33m                \u001b[1;32mfor\u001b[0m \u001b[0mt\u001b[0m\u001b[1;33m,\u001b[0m\u001b[0md\u001b[0m\u001b[1;33m,\u001b[0m\u001b[0ms\u001b[0m\u001b[1;33m,\u001b[0m\u001b[0mp\u001b[0m\u001b[1;33m,\u001b[0m\u001b[0mv\u001b[0m \u001b[1;32min\u001b[0m \u001b[0mzip\u001b[0m\u001b[1;33m(\u001b[0m\u001b[0mtp\u001b[0m\u001b[1;33m,\u001b[0m \u001b[0mtradingLifetimes\u001b[0m\u001b[1;33m,\u001b[0m \u001b[0mstrike\u001b[0m\u001b[1;33m,\u001b[0m\u001b[0mbid\u001b[0m\u001b[1;33m,\u001b[0m \u001b[0mvolume\u001b[0m\u001b[1;33m)\u001b[0m\u001b[1;33m\u001b[0m\u001b[1;33m\u001b[0m\u001b[0m\n\u001b[0m\u001b[0;32m     51\u001b[0m                  if t == 'call' and v > 0 and float(p) > 0]\n\u001b[0;32m     52\u001b[0m     ask_calls = [Euro_Option(tp=t, lifetime = d, strike = s, premium = float(p)) \n",
      "\u001b[1;32m<ipython-input-84-074b506ebb1c>\u001b[0m in \u001b[0;36m<listcomp>\u001b[1;34m(.0)\u001b[0m\n\u001b[0;32m     49\u001b[0m     bid_calls = [Euro_Option(tp=t, lifetime = d, strike = s, premium = float(p)) \n\u001b[0;32m     50\u001b[0m                \u001b[1;32mfor\u001b[0m \u001b[0mt\u001b[0m\u001b[1;33m,\u001b[0m\u001b[0md\u001b[0m\u001b[1;33m,\u001b[0m\u001b[0ms\u001b[0m\u001b[1;33m,\u001b[0m\u001b[0mp\u001b[0m\u001b[1;33m,\u001b[0m\u001b[0mv\u001b[0m \u001b[1;32min\u001b[0m \u001b[0mzip\u001b[0m\u001b[1;33m(\u001b[0m\u001b[0mtp\u001b[0m\u001b[1;33m,\u001b[0m \u001b[0mtradingLifetimes\u001b[0m\u001b[1;33m,\u001b[0m \u001b[0mstrike\u001b[0m\u001b[1;33m,\u001b[0m\u001b[0mbid\u001b[0m\u001b[1;33m,\u001b[0m \u001b[0mvolume\u001b[0m\u001b[1;33m)\u001b[0m\u001b[1;33m\u001b[0m\u001b[1;33m\u001b[0m\u001b[0m\n\u001b[1;32m---> 51\u001b[1;33m                  if t == 'call' and v > 0 and float(p) > 0]\n\u001b[0m\u001b[0;32m     52\u001b[0m     ask_calls = [Euro_Option(tp=t, lifetime = d, strike = s, premium = float(p)) \n\u001b[0;32m     53\u001b[0m                \u001b[1;32mfor\u001b[0m \u001b[0mt\u001b[0m\u001b[1;33m,\u001b[0m\u001b[0md\u001b[0m\u001b[1;33m,\u001b[0m\u001b[0ms\u001b[0m\u001b[1;33m,\u001b[0m\u001b[0mp\u001b[0m\u001b[1;33m,\u001b[0m\u001b[0mv\u001b[0m \u001b[1;32min\u001b[0m \u001b[0mzip\u001b[0m\u001b[1;33m(\u001b[0m\u001b[0mtp\u001b[0m\u001b[1;33m,\u001b[0m \u001b[0mtradingLifetimes\u001b[0m\u001b[1;33m,\u001b[0m \u001b[0mstrike\u001b[0m\u001b[1;33m,\u001b[0m\u001b[0mask\u001b[0m\u001b[1;33m,\u001b[0m \u001b[0mvolume\u001b[0m\u001b[1;33m)\u001b[0m\u001b[1;33m\u001b[0m\u001b[1;33m\u001b[0m\u001b[0m\n",
      "\u001b[1;31mNameError\u001b[0m: name 'Euro_Option' is not defined"
     ]
    }
   ],
   "source": [
    "def parseTicker(ticker):\n",
    "    \"calls parse Contract for every duration option, \\\n",
    "    returns list of tuples with (expiry date, [options])\"\n",
    "#     url = f'https://finance.yahoo.com/quote/{ticker.lower()}/options'\n",
    "#     response = requests.get(url)\n",
    "#     tree = html.fromstring(response.content)\n",
    "#     expiryDates = tree.xpath(\"//div[contains(@class, 'option-contract-control drop-down-selector')]\")\n",
    "    \n",
    "    #Need to automate getting all expiry dates\n",
    "    urls = ['https://finance.yahoo.com/quote/TDC/options?date=1582243200']\n",
    "#     ,\n",
    "#            'https://finance.yahoo.com/quote/TDC/options?date=1584662400',\n",
    "#            'https://finance.yahoo.com/quote/TDC/options?date=1587081600',\n",
    "#            'https://finance.yahoo.com/quote/TDC/options?date=1594944000',\n",
    "#            'https://finance.yahoo.com/quote/TDC/options?date=1608249600']\n",
    "    for url in urls:\n",
    "        options = parseContract(url)\n",
    "        fig, ((ax1, ax2), (ax3, ax4)) = plt.subplots(2, 2, figsize = (10,10))\n",
    "        plt.subplots_adjust(wspace=0.3, hspace=0.25)\n",
    "        timestamp = int(url.split(\"=\")[1])\n",
    "        dt_object = datetime.fromtimestamp(timestamp)\n",
    "        fig.suptitle(f\"Implied probabilities for {ticker.upper()} on {datetime.strftime(dt_object, '%B %d, %Y')}\")\n",
    "        for opt, ax in zip(options, (ax1, ax2, ax3, ax4)):\n",
    "            o = options[opt]\n",
    "            x_axis = np.array([0] + [i.strike for i in o]+[np.inf])\n",
    "            step_size = min(x_axis[1:] - x_axis[:-1])\n",
    "            ax.set_title(f\"Implied probabilities of {opt}\")\n",
    "            ax.bar(x_axis[:-1], Euro_Option.make_prob_dist(o), \n",
    "                color='tab:orange', label = \"Call Vol\", alpha = 0.5, width = step_size)\n",
    "        fig.show()\n",
    "                     \n",
    "def parseContract(url):\n",
    "    'Returns dict of options with bid/ask as premium for each type'\n",
    "    response = requests.get(url)\n",
    "    tree = html.fromstring(response.content)\n",
    "    contractName = [i.text for i in tree.xpath(\"//td[contains(@class,'data-col0 Ta(start) Pstart')]/a\")]\n",
    "    strike, changePrice, changePercent= \\\n",
    "      ([i.text for i in tree.xpath(f'//td[contains(@class,\"data-col{i} Ta(end) Pstart\")]/a')] for i in [ 2, 6, 7])\n",
    "    lastTradeDate, lastPrice, bid, ask, volume, openInterest, impliedVol = \\\n",
    "      ([i.text for i in tree.xpath(f'//td[contains(@class,\"data-col{i} Ta(end) Pstart\")]')] for i in [1, 3, 4, 5, 8, 9, 10])\n",
    "    volume = [int(i.replace(\",\",\"\")) if i!='-' else 0 for i in volume ]\n",
    "                     \n",
    "    strike=[float(c[-8:])/1000 for c in contractName]\n",
    "    tp = ['call' if c[-9]=='C' else 'put' for c in contractName]\n",
    "    expiryDate = [datetime.strptime(c[-15:-9], '%y%m%d').date() for c in contractName]\n",
    "    symbol = [c[:-15] for c in contractName]\n",
    "    tradingLifetimes = [np.busday_count(date.today(), exp) for exp in expiryDate]\n",
    "                     \n",
    "    bid_calls = [Euro_Option(tp=t, lifetime = d, strike = s, premium = float(p)) \n",
    "               for t,d,s,p,v in zip(tp, tradingLifetimes, strike,bid, volume) \n",
    "                 if t == 'call' and v > 0 and float(p) > 0]\n",
    "    ask_calls = [Euro_Option(tp=t, lifetime = d, strike = s, premium = float(p)) \n",
    "               for t,d,s,p,v in zip(tp, tradingLifetimes, strike,ask, volume) \n",
    "                 if t == 'put' and v > 0 and float(p) > 0]\n",
    "    bid_puts = [Euro_Option(tp=t, lifetime = d, strike = s, premium = float(p)) \n",
    "               for t,d,s,p,v in zip(tp, tradingLifetimes, strike,bid, volume) \n",
    "                 if t == 'call' and v > 0 and float(p) > 0]\n",
    "    ask_puts = [Euro_Option(tp=t, lifetime = d, strike = s, premium = float(p)) \n",
    "               for t,d,s,p,v in zip(tp, tradingLifetimes, strike,ask, volume) \n",
    "                 if t == 'put' and v > 0 and float(p) > 0]\n",
    "    return {'bid_calls':bid_calls, 'ask_calls':ask_calls, 'bid_puts':bid_puts, 'ask_puts':ask_puts}\n",
    "                     \n",
    "parseTicker('tdc')"
   ]
  },
  {
   "cell_type": "code",
   "execution_count": 66,
   "metadata": {},
   "outputs": [
    {
     "name": "stdout",
     "output_type": "stream",
     "text": [
      "'bid_calls':bid_calls, 'ask_calls':ask_calls, 'bid_puts':bid_puts, 'ask_puts':ask_puts, "
     ]
    }
   ],
   "source": [
    "expiryDates = tree.xpath(\"//div[contains(@class, 'option-contract-control')]\")\n",
    "expiryDates = tree.xpath('//*[contains(@id,\"Col1-1-OptionContracts-Proxy\")]')\n",
    "expiryDates\n",
    "from datetime import timedelta\n",
    "timedelta(seconds=2419200).days\n",
    "\n",
    "optionSeries = namedtuple('optionSeries', ['bid_calls', 'ask_calls', 'bid_puts', 'ask_puts'])\n",
    "a = optionSeries._make([1,2,3,4])\n",
    "[i for i in zip(a, a._asdict())]\n",
    "# [a[i] for i in a._fields]\n",
    "for i in ('bid_calls', 'ask_calls', 'bid_puts', 'ask_puts'):\n",
    "    print(f\"'{i}':{i}\", end=', ')"
   ]
  },
  {
   "cell_type": "code",
   "execution_count": 86,
   "metadata": {},
   "outputs": [
    {
     "data": {
      "text/plain": [
       "'ASDF'"
      ]
     },
     "execution_count": 86,
     "metadata": {},
     "output_type": "execute_result"
    }
   ],
   "source": [
    "# strike, changePrice, changePercent= \\\n",
    "#       ([i.text for i in tree.xpath(f'//td[contains(@class,\"data-col{i} Ta(end) Pstart\")]/a')] for i in [ 2, 6, 7])\n",
    "#     lastTradeDate, lastPrice, bid, ask, volume, openInterest, impliedVol = \\\n",
    "#       ([i.text for i in tree.xpath(f'//td[contains(@class,\"data-col{i} Ta(end) Pstart\")]')] for i in [1, 3, 4, 5, 8, 9, 10])\n",
    "#     volume = [int(i.replace(\",\",\"\")) if i!='-' else 0 for i in volume ]\n",
    "'asdf'.upper()"
   ]
  }
 ],
 "metadata": {
  "colab": {
   "collapsed_sections": [],
   "name": "OptionsCalcProbs.ipynb",
   "provenance": []
  },
  "kernelspec": {
   "display_name": "Python 3 (Spyder)",
   "language": "python3",
   "name": "python3"
  },
  "language_info": {
   "codemirror_mode": {
    "name": "ipython",
    "version": 3
   },
   "file_extension": ".py",
   "mimetype": "text/x-python",
   "name": "python",
   "nbconvert_exporter": "python",
   "pygments_lexer": "ipython3",
   "version": "3.7.4"
  }
 },
 "nbformat": 4,
 "nbformat_minor": 4
}
